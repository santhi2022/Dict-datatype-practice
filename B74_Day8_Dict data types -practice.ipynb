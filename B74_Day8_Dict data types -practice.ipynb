{
 "cells": [
  {
   "cell_type": "code",
   "execution_count": null,
   "id": "9bcb7df3",
   "metadata": {},
   "outputs": [],
   "source": [
    "#Dict:"
   ]
  },
  {
   "cell_type": "code",
   "execution_count": 4,
   "id": "264c8a31",
   "metadata": {},
   "outputs": [
    {
     "name": "stdout",
     "output_type": "stream",
     "text": [
      "{'color': 'green', 'points': 5, 'level': 1}\n"
     ]
    }
   ],
   "source": [
    "alien = {'color':'green','points':5,'level':1}\n",
    "print(alien)"
   ]
  },
  {
   "cell_type": "code",
   "execution_count": 3,
   "id": "e98ce159",
   "metadata": {},
   "outputs": [
    {
     "ename": "NameError",
     "evalue": "name 'alien' is not defined",
     "output_type": "error",
     "traceback": [
      "\u001b[1;31m---------------------------------------------------------------------------\u001b[0m",
      "\u001b[1;31mNameError\u001b[0m                                 Traceback (most recent call last)",
      "Input \u001b[1;32mIn [3]\u001b[0m, in \u001b[0;36m<cell line: 1>\u001b[1;34m()\u001b[0m\n\u001b[1;32m----> 1\u001b[0m \u001b[38;5;28mprint\u001b[39m(\u001b[43malien\u001b[49m)\n",
      "\u001b[1;31mNameError\u001b[0m: name 'alien' is not defined"
     ]
    }
   ],
   "source": [
    "print(alien)"
   ]
  },
  {
   "cell_type": "code",
   "execution_count": 5,
   "id": "0ea33e86",
   "metadata": {},
   "outputs": [
    {
     "data": {
      "text/plain": [
       "dict"
      ]
     },
     "execution_count": 5,
     "metadata": {},
     "output_type": "execute_result"
    }
   ],
   "source": [
    "type(alien)"
   ]
  },
  {
   "cell_type": "code",
   "execution_count": 6,
   "id": "fe2650fa",
   "metadata": {},
   "outputs": [
    {
     "name": "stdout",
     "output_type": "stream",
     "text": [
      "green\n"
     ]
    }
   ],
   "source": [
    "print(alien['color'])"
   ]
  },
  {
   "cell_type": "code",
   "execution_count": 7,
   "id": "51c8e38b",
   "metadata": {},
   "outputs": [
    {
     "name": "stdout",
     "output_type": "stream",
     "text": [
      "5\n"
     ]
    }
   ],
   "source": [
    "print(alien['points'])"
   ]
  },
  {
   "cell_type": "code",
   "execution_count": 9,
   "id": "9fe4c1ef",
   "metadata": {},
   "outputs": [
    {
     "ename": "KeyError",
     "evalue": "1",
     "output_type": "error",
     "traceback": [
      "\u001b[1;31m---------------------------------------------------------------------------\u001b[0m",
      "\u001b[1;31mKeyError\u001b[0m                                  Traceback (most recent call last)",
      "Input \u001b[1;32mIn [9]\u001b[0m, in \u001b[0;36m<cell line: 1>\u001b[1;34m()\u001b[0m\n\u001b[1;32m----> 1\u001b[0m \u001b[38;5;28mprint\u001b[39m(\u001b[43malien\u001b[49m\u001b[43m[\u001b[49m\u001b[38;5;241;43m1\u001b[39;49m\u001b[43m]\u001b[49m)\n",
      "\u001b[1;31mKeyError\u001b[0m: 1"
     ]
    }
   ],
   "source": [
    "print(alien[1])"
   ]
  },
  {
   "cell_type": "code",
   "execution_count": 10,
   "id": "7a2acf08",
   "metadata": {},
   "outputs": [
    {
     "name": "stdout",
     "output_type": "stream",
     "text": [
      "1\n"
     ]
    }
   ],
   "source": [
    "print(alien['level'])"
   ]
  },
  {
   "cell_type": "code",
   "execution_count": 11,
   "id": "8c41fdbc",
   "metadata": {},
   "outputs": [
    {
     "name": "stdout",
     "output_type": "stream",
     "text": [
      "{'color': 'green', 'points': 5, 'level': 1}\n"
     ]
    }
   ],
   "source": [
    "print(alien)"
   ]
  },
  {
   "cell_type": "code",
   "execution_count": null,
   "id": "21eb5d3f",
   "metadata": {},
   "outputs": [],
   "source": [
    "#ADD key combination"
   ]
  },
  {
   "cell_type": "code",
   "execution_count": 12,
   "id": "3e69cf36",
   "metadata": {},
   "outputs": [
    {
     "name": "stdout",
     "output_type": "stream",
     "text": [
      "{'color': 'green', 'points': 5, 'level': 1, 'current_status': 'beginer'}\n"
     ]
    }
   ],
   "source": [
    "alien['current_status']='beginer'\n",
    "print(alien)"
   ]
  },
  {
   "cell_type": "code",
   "execution_count": null,
   "id": "7d9e8ab6",
   "metadata": {},
   "outputs": [],
   "source": [
    "#Modify"
   ]
  },
  {
   "cell_type": "code",
   "execution_count": 13,
   "id": "a553d80a",
   "metadata": {},
   "outputs": [
    {
     "name": "stdout",
     "output_type": "stream",
     "text": [
      "{'color': 'yellow', 'points': 5, 'level': 1, 'current_status': 'beginer'}\n"
     ]
    }
   ],
   "source": [
    "alien['color']='yellow'\n",
    "print(alien)"
   ]
  },
  {
   "cell_type": "code",
   "execution_count": null,
   "id": "0d361e85",
   "metadata": {},
   "outputs": [],
   "source": [
    "#del\n"
   ]
  },
  {
   "cell_type": "code",
   "execution_count": 14,
   "id": "7d72c400",
   "metadata": {},
   "outputs": [
    {
     "name": "stdout",
     "output_type": "stream",
     "text": [
      "{'color': 'yellow', 'level': 1, 'current_status': 'beginer'}\n"
     ]
    }
   ],
   "source": [
    "del alien['points']\n",
    "print(alien)"
   ]
  },
  {
   "cell_type": "code",
   "execution_count": null,
   "id": "6ece6401",
   "metadata": {},
   "outputs": [],
   "source": [
    "# create ur face book account?"
   ]
  },
  {
   "cell_type": "code",
   "execution_count": 15,
   "id": "328a55fa",
   "metadata": {},
   "outputs": [
    {
     "name": "stdout",
     "output_type": "stream",
     "text": [
      "{'firstname': 'code', 'lastname': 'training', 'username': 'ct_academy', 'dob': '01-01-1988', 'pwd': '54321'}\n"
     ]
    }
   ],
   "source": [
    "account={'firstname':'code','lastname':'training','username':'ct_academy','dob':'01-01-1988','pwd':'54321'}\n",
    "print(account)"
   ]
  },
  {
   "cell_type": "code",
   "execution_count": 16,
   "id": "65a6b6da",
   "metadata": {},
   "outputs": [
    {
     "name": "stdout",
     "output_type": "stream",
     "text": [
      "{'firstname': 'code', 'lastname': 'training', 'username': 'ct_academy', 'dob': '01-01-1988', 'pwd': '54321', 'location': 'farzi_cafe'}\n"
     ]
    }
   ],
   "source": [
    "account['location']='farzi_cafe'\n",
    "print(account)"
   ]
  },
  {
   "cell_type": "code",
   "execution_count": 20,
   "id": "5a16f83c",
   "metadata": {},
   "outputs": [
    {
     "name": "stdout",
     "output_type": "stream",
     "text": [
      "{'color': 'white', 'points': 5, 'levels': 3}\n"
     ]
    }
   ],
   "source": [
    "elements={'color':'white','points':5,'levels':3}\n",
    "print(elements)"
   ]
  },
  {
   "cell_type": "code",
   "execution_count": 21,
   "id": "fd7d90ff",
   "metadata": {},
   "outputs": [
    {
     "data": {
      "text/plain": [
       "dict"
      ]
     },
     "execution_count": 21,
     "metadata": {},
     "output_type": "execute_result"
    }
   ],
   "source": [
    "type(elements)"
   ]
  },
  {
   "cell_type": "code",
   "execution_count": 22,
   "id": "1602da82",
   "metadata": {},
   "outputs": [
    {
     "name": "stdout",
     "output_type": "stream",
     "text": [
      "<class 'dict'>\n"
     ]
    }
   ],
   "source": [
    "print(type(elements))"
   ]
  },
  {
   "cell_type": "code",
   "execution_count": 23,
   "id": "a8029e9e",
   "metadata": {},
   "outputs": [
    {
     "data": {
      "text/plain": [
       "3"
      ]
     },
     "execution_count": 23,
     "metadata": {},
     "output_type": "execute_result"
    }
   ],
   "source": [
    "len(elements)"
   ]
  },
  {
   "cell_type": "code",
   "execution_count": 24,
   "id": "a2697de8",
   "metadata": {},
   "outputs": [
    {
     "name": "stdout",
     "output_type": "stream",
     "text": [
      "white\n"
     ]
    }
   ],
   "source": [
    "print(elements['color'])"
   ]
  },
  {
   "cell_type": "code",
   "execution_count": 25,
   "id": "d2e818a3",
   "metadata": {},
   "outputs": [
    {
     "name": "stdout",
     "output_type": "stream",
     "text": [
      "5\n"
     ]
    }
   ],
   "source": [
    "print(elements['points'])"
   ]
  },
  {
   "cell_type": "code",
   "execution_count": 26,
   "id": "0ad453cf",
   "metadata": {},
   "outputs": [
    {
     "name": "stdout",
     "output_type": "stream",
     "text": [
      "3\n"
     ]
    }
   ],
   "source": [
    "print(elements['levels'])"
   ]
  },
  {
   "cell_type": "code",
   "execution_count": 27,
   "id": "2a324a2b",
   "metadata": {},
   "outputs": [
    {
     "name": "stdout",
     "output_type": "stream",
     "text": [
      "{'color': 'white', 'points': 5, 'levels': 3}\n"
     ]
    }
   ],
   "source": [
    "elements={'color':'white','points':5,'levels':3}\n",
    "print(elements)"
   ]
  },
  {
   "cell_type": "code",
   "execution_count": 28,
   "id": "88037149",
   "metadata": {},
   "outputs": [
    {
     "name": "stdout",
     "output_type": "stream",
     "text": [
      "{'color': 'white', 'points': 5, 'levels': 3, 'start_position': '0'}\n"
     ]
    }
   ],
   "source": [
    "elements['start_position']='0'\n",
    "print(elements)"
   ]
  },
  {
   "cell_type": "code",
   "execution_count": 29,
   "id": "007f7104",
   "metadata": {},
   "outputs": [
    {
     "name": "stdout",
     "output_type": "stream",
     "text": [
      "{'color': 'pink', 'points': 5, 'levels': 3, 'start_position': '0'}\n"
     ]
    }
   ],
   "source": [
    "elements['color']='pink'\n",
    "print(elements)"
   ]
  },
  {
   "cell_type": "code",
   "execution_count": 30,
   "id": "07ec90b2",
   "metadata": {},
   "outputs": [
    {
     "name": "stdout",
     "output_type": "stream",
     "text": [
      "{'color': 'white', 'points': '5', 'levels': '3'}\n"
     ]
    }
   ],
   "source": [
    "elements={'color':'white','points':'5','levels':'3'}\n",
    "print(elements)"
   ]
  },
  {
   "cell_type": "code",
   "execution_count": 31,
   "id": "ff1b2305",
   "metadata": {},
   "outputs": [
    {
     "name": "stdout",
     "output_type": "stream",
     "text": [
      "{'color': 'white', 'points': '5', 'levels': '3'}\n"
     ]
    }
   ],
   "source": [
    "account={'color':'white','points':'5','levels':'3'}\n",
    "print(account)"
   ]
  },
  {
   "cell_type": "code",
   "execution_count": 32,
   "id": "e1513999",
   "metadata": {},
   "outputs": [
    {
     "name": "stdout",
     "output_type": "stream",
     "text": [
      "{'color': 'white', 'points': '5', 'levels': '3', 'firstname': 'santhi'}\n"
     ]
    }
   ],
   "source": [
    "account['firstname']='santhi'\n",
    "print(account)"
   ]
  },
  {
   "cell_type": "code",
   "execution_count": 33,
   "id": "8417e695",
   "metadata": {},
   "outputs": [
    {
     "name": "stdout",
     "output_type": "stream",
     "text": [
      "{'firstname': 'code', 'lastname': 'training', 'username': 'ct_academy', 'dob': '01-01-1988', 'pwd': '54321'}\n"
     ]
    }
   ],
   "source": [
    "account={'firstname':'code','lastname':'training','username':'ct_academy','dob':'01-01-1988','pwd':'54321'}\n",
    "print(account)"
   ]
  },
  {
   "cell_type": "code",
   "execution_count": 34,
   "id": "fc731491",
   "metadata": {},
   "outputs": [
    {
     "name": "stdout",
     "output_type": "stream",
     "text": [
      "{'firstname': 'code', 'lastname': 'training', 'username': 'ct_academy', 'dob': '01-01-1988', 'pwd': 12345}\n"
     ]
    }
   ],
   "source": [
    "account['pwd']=12345\n",
    "print(account)"
   ]
  },
  {
   "cell_type": "code",
   "execution_count": 36,
   "id": "a65ac8e7",
   "metadata": {},
   "outputs": [
    {
     "name": "stdout",
     "output_type": "stream",
     "text": [
      "{'firstname': 'code', 'lastname': 'training', 'username': 'ct_academy', 'dob': '01-01-1988'}\n"
     ]
    }
   ],
   "source": [
    "del account['pwd']\n",
    "print(account)"
   ]
  },
  {
   "cell_type": "code",
   "execution_count": null,
   "id": "700953ad",
   "metadata": {},
   "outputs": [],
   "source": []
  }
 ],
 "metadata": {
  "kernelspec": {
   "display_name": "Python 3 (ipykernel)",
   "language": "python",
   "name": "python3"
  },
  "language_info": {
   "codemirror_mode": {
    "name": "ipython",
    "version": 3
   },
   "file_extension": ".py",
   "mimetype": "text/x-python",
   "name": "python",
   "nbconvert_exporter": "python",
   "pygments_lexer": "ipython3",
   "version": "3.9.12"
  }
 },
 "nbformat": 4,
 "nbformat_minor": 5
}
